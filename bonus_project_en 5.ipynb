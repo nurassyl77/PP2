{
 "cells": [
  {
   "cell_type": "markdown",
   "metadata": {},
   "source": [
    "Bonus point project (Fundamentals of Python)\n",
    "- Deadline: 28/03/2025 23:59\n",
    "- Instructor: Zhiyenbekov Zhalgas"
   ]
  },
  {
   "cell_type": "markdown",
   "metadata": {},
   "source": [
    "Please create a package **education**, which contains the following modules:\n",
    "\n",
    "1. users\n",
    "2. organizations\n",
    "\n",
    "When you start the package directly, it must show all the modules indicated in the package."
   ]
  },
  {
   "cell_type": "markdown",
   "metadata": {},
   "source": [
    "## The description of the modules is given below:"
   ]
  },
  {
   "cell_type": "markdown",
   "metadata": {},
   "source": [
    "### module **users** must contain the classes **Human, Student (Human), Teacher (Human)**.\n",
    "\n",
    "1. Class **Human** must contain the following information: name, surname, age, gender, nationality, as well as ways to set this information.\n",
    "\n",
    ">```\n",
    "> h1 = Human(name=\"John\", familyname=\"Wick\", age=35, gender=\"male\", nationality=\"USA\")\n",
    "> ```\n",
    "\n",
    "List of methods:\n",
    "> ```\n",
    "- set_name()\n",
    "- set_family()\n",
    "- set_age()\n",
    "- set_gender()\n",
    "- set_nationality()\n",
    "- Get_info () # returns a dictionary with personal information about the object\n",
    "> ```\n",
    "\n",
    "2. Class **Student** - this is a children's class class Human. He must contain the following information about each student: name, surname, age, gender, nationality, school or university, list of subjects and relevant methods for installing this information.\n",
    "\n",
    "\n",
    "List of methods in addition to the list of methods from the parent class Human:\n",
    "> ```\n",
    "- set_school()\n",
    "- Add_Subject () # Add the item to the list of items\n",
    "> ```\n",
    "\n",
    "\n",
    "3. Class **Teacher** - This is a children's class of class Human. He must contain the following information about each teacher: name, surname, age, gender, nationality, school or university, subject of teaching and relevant methods for installing this information.\n",
    "\n",
    "List of methods in addition to the list of methods from the parent class Human:\n",
    "> ```\n",
    "- set_school()\n",
    "- Add_Subject () # Add the subject taught by the teacher\n",
    "> ```\n",
    "\n",
    "* At the direct launch of the **users** module, the list of classes should be directly displayed, as well as lists of methods of the corresponding classes given in the module.\n",
    "\n",
    "* When you import the module, he must show that the module was successfully imported.\n",
    "\n",
    "---"
   ]
  },
  {
   "cell_type": "code",
   "execution_count": null,
   "metadata": {},
   "outputs": [],
   "source": [
    "# your code:\n",
    "class Human:\n",
    "    def __init__(self, name, familyname, age, gender, nationality):\n",
    "        self.name = name\n",
    "        self.familyname = familyname\n",
    "        self.age = age\n",
    "        self.gender = gender\n",
    "        self.nationality = nationality\n",
    "\n",
    "    def set_name(self, name):\n",
    "        self.name = name\n",
    "\n",
    "    def set_family(self, familyname):\n",
    "        self.familyname = familyname\n",
    "\n",
    "    def set_age(self, age):\n",
    "        self.age = age\n",
    "\n",
    "    def set_gender(self, gender):\n",
    "        self.gender = gender\n",
    "\n",
    "    def set_nationality(self, nationality):\n",
    "        self.nationality = nationality\n",
    "\n",
    "    def get_info(self):\n",
    "        return {\n",
    "            \"name\": self.name,\n",
    "            \"familyname\": self.familyname,\n",
    "            \"age\": self.age,\n",
    "            \"gender\": self.gender,\n",
    "            \"nationality\": self.nationality\n",
    "        }\n",
    "\n",
    "\n",
    "class Student(Human):\n",
    "    def __init__(self, name, familyname, age, gender, nationality, student_id, university, major, year):\n",
    "        super().__init__(name, familyname, age, gender, nationality)\n",
    "        self.student_id = student_id\n",
    "        self.university = university\n",
    "        self.major = major\n",
    "        self.year = year\n",
    "\n",
    "    def get_info(self):\n",
    "        info = super().get_info()\n",
    "        info.update({\n",
    "            \"student_id\": self.student_id,\n",
    "            \"university\": self.university,\n",
    "            \"major\": self.major,\n",
    "            \"year\": self.year\n",
    "        })\n",
    "        return info\n",
    "\n",
    "\n",
    "class Teacher(Human):\n",
    "    def __init__(self, name, familyname, age, gender, nationality, teacher_id, university, subject):\n",
    "        super().__init__(name, familyname, age, gender, nationality)\n",
    "        self.teacher_id = teacher_id\n",
    "        self.university = university\n",
    "        self.subject = subject\n",
    "\n",
    "    def get_info(self):\n",
    "        info = super().get_info()\n",
    "        info.update({\n",
    "            \"teacher_id\": self.teacher_id,\n",
    "            \"university\": self.university,\n",
    "            \"subject\": self.subject\n",
    "        })\n",
    "        return info\n",
    "\n",
    "\n",
    "# Кодты тексеру\n",
    "if __name__ == \"__main__\":\n",
    "        h1 = Human(\"Erasyl\", \"Erkhozha\", 18, \"male\", \"Kazakhstan\")\n",
    "        print(\"Human:\", h1.get_info())\n",
    "\n",
    "        s1 = Student(\"Nurassyl\", \"Mustafayev\", 18, \"male\", \"Kazakhstan\", \"24B031893\", \"KBTU\", \"Information System\", 1)\n",
    "        print(\"Student:\", s1.get_info())\n",
    "\n",
    "        t1 = Teacher(\"Zhalgas\", \"Zhiyenbekov\", 24, \"male\", \"Kazakhstan\", \"2312312\", \"KBTU\", \"PP_2\")\n",
    "        print(\"Teacher:\", t1.get_info())"
   ]
  },
  {
   "cell_type": "markdown",
   "metadata": {},
   "source": [
    "### Module **Organizations** must contain the class **School**.\n",
    "\n",
    "Class **School** must contain the following information: school name or number, school address, school phone number, email address of the educational institution, number of students, number of teachers, as well as ways to set this information.\n",
    "\n",
    "\n",
    ">```\n",
    "> s1 = School(name=\"NIS\", address=\"Astana, Kazakhstan\", phone=\"999999\", num_stud=1000, num_teachers=50)\n",
    "> ```\n",
    "\n",
    "List of methods:\n",
    ">```\n",
    "- set_name()\n",
    "- set_address()\n",
    "- set_phone()\n",
    "- set_email()\n",
    "- set_num_stud()\n",
    "- set_num_teachers()\n",
    "- add_student()\n",
    "- add_teacher()\n",
    "- Get_info () #Returns a dictionary with information about school without personal information of students / teachers\n",
    "\n",
    "- Get_Report () #Creates a report (CSV file) with information about the school and about each student, as well as about the teacher in this school.\n",
    ">```\n",
    "\n",
    "**Please make the correct CSV file format (which you consider the most understandable)**\n",
    "\n",
    "* With the direct launch of the module **organizations**, a list of classes should be directly displayed, as well as lists of methods of the corresponding classes given in the module.\n",
    "\n",
    "* When you import the module, he must show that the module was successfully imported.\n",
    "\n",
    "---"
   ]
  },
  {
   "cell_type": "markdown",
   "metadata": {},
   "source": [
    "### What to do in Jupyter Notebook?\n",
    "\n",
    "In this Jupyter Notebook, please check all the functionality of your package. At least create 2-3 schools, each school should have at least 10 students (with different information), as well as at least 2 teachers of different subjects and personal information. **Personal information of these students, teachers and schools should not be true (just invent).**\n",
    "\n",
    "**Please make a package and given Jupyter Notebook together and send an archive file.**"
   ]
  },
  {
   "cell_type": "code",
   "execution_count": null,
   "metadata": {},
   "outputs": [
    {
     "name": "stdout",
     "output_type": "stream",
     "text": [
      "Human: {'name': 'Erasyl', 'familyname': 'Erkhozha', 'age': 18, 'gender': 'male', 'nationality': 'Kazakhstan'}\n",
      "Student: {'name': 'Nurassyl', 'familyname': 'Mustafayev', 'age': 18, 'gender': 'male', 'nationality': 'Kazakhstan', 'student_id': '24B031893', 'university': 'KBTU', 'major': 'Information System', 'year': 1}\n",
      "Teacher: {'name': 'Zhalgas', 'familyname': 'Zhiyenbekov', 'age': 24, 'gender': 'male', 'nationality': 'Kazakhstan', 'teacher_id': '2312312', 'university': 'KBTU', 'subject': 'PP_2'}\n"
     ]
    }
   ],
   "source": [
    "# your code:\n"
   ]
  }
 ],
 "metadata": {
  "kernelspec": {
   "display_name": "Python 3",
   "language": "python",
   "name": "python3"
  },
  "language_info": {
   "codemirror_mode": {
    "name": "ipython",
    "version": 3
   },
   "file_extension": ".py",
   "mimetype": "text/x-python",
   "name": "python",
   "nbconvert_exporter": "python",
   "pygments_lexer": "ipython3",
   "version": "3.12.2"
  }
 },
 "nbformat": 4,
 "nbformat_minor": 2
}

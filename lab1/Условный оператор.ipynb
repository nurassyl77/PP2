{
 "cells": [
  {
   "cell_type": "markdown",
   "metadata": {},
   "source": [
    "### Основы: Условный оператор [Домашнее задание]\n",
    "\n",
    "Практика использования условного оператора (if-elif-else)."
   ]
  },
  {
   "cell_type": "code",
   "execution_count": 3,
   "metadata": {},
   "outputs": [],
   "source": [
    "num1 = 15\n",
    "num2 = 15.0"
   ]
  },
  {
   "cell_type": "markdown",
   "metadata": {},
   "source": [
    "### Каковы результаты следующих строк кода?\n",
    "```\n",
    "if num1 > num2:\n",
    "    print(\"{0} > {1}\".format(num1, num2))\n",
    "elif num1 < num2:\n",
    "    print(\"{0} < {1}\".format(num1, num2))\n",
    "else:\n",
    "    print(\"{0} == {1}\".format(num1, num2))\n",
    "```"
   ]
  },
  {
   "cell_type": "markdown",
   "metadata": {},
   "source": [
    "Теперь скопируйте код и выведите результаты этих операций.\n",
    "Результаты совпадают с вашими прогнозами?"
   ]
  },
  {
   "cell_type": "code",
   "execution_count": 5,
   "metadata": {},
   "outputs": [
    {
     "name": "stdout",
     "output_type": "stream",
     "text": [
      "15 == 15.0\n"
     ]
    }
   ],
   "source": [
    "# Начало вашего кода \n",
    "if num1 > num2:\n",
    "    print(\"{0} > {1}\".format(num1, num2))\n",
    "elif num1 < num2:\n",
    "    print(\"{0} < {1}\".format(num1, num2))\n",
    "else:\n",
    "    print(\"{0} == {1}\".format(num1, num2))\n",
    "# Конец вашего кода"
   ]
  },
  {
   "cell_type": "markdown",
   "metadata": {},
   "source": [
    "### Ожидаемые результаты:\n",
    "```\n",
    "15 == 15.0\n",
    "```"
   ]
  },
  {
   "cell_type": "markdown",
   "metadata": {},
   "source": [
    "**Дополнительный вопрос:**\n",
    "\n",
    "```\n",
    "str1 = \"\"\n",
    "if str1:\n",
    "    print(\"Hello World\")\n",
    "else:\n",
    "    print(\"Error\")\n",
    "```"
   ]
  },
  {
   "cell_type": "code",
   "execution_count": 1,
   "metadata": {},
   "outputs": [
    {
     "name": "stdout",
     "output_type": "stream",
     "text": [
      "Error\n"
     ]
    }
   ],
   "source": [
    "str1 = \"\"\n",
    "if str1:\n",
    "    print(\"Hello World\")\n",
    "else:\n",
    "    print(\"Error\")"
   ]
  }
 ],
 "metadata": {
  "kernelspec": {
   "display_name": "Python 3 (ipykernel)",
   "language": "python",
   "name": "python3"
  },
  "language_info": {
   "codemirror_mode": {
    "name": "ipython",
    "version": 3
   },
   "file_extension": ".py",
   "mimetype": "text/x-python",
   "name": "python",
   "nbconvert_exporter": "python",
   "pygments_lexer": "ipython3",
   "version": "3.12.7"
  }
 },
 "nbformat": 4,
 "nbformat_minor": 2
}
